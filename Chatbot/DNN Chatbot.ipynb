{
 "cells": [
  {
   "cell_type": "code",
   "execution_count": 1,
   "metadata": {},
   "outputs": [],
   "source": [
    "import json, pickle\n",
    "from tensorflow.keras.models import load_model"
   ]
  },
  {
   "cell_type": "code",
   "execution_count": null,
   "metadata": {},
   "outputs": [],
   "source": []
  },
  {
   "cell_type": "code",
   "execution_count": 2,
   "metadata": {},
   "outputs": [],
   "source": [
    "# Reading file\n",
    "intents = json.loads(open('chats.json').read())\n",
    "\n",
    "words = pickle.load(open('words.pkl', 'rb'))\n",
    "classes = pickle.load(open('classes.pkl', 'rb'))\n",
    "model = load_model('chatbot_trained_model.h5')"
   ]
  },
  {
   "cell_type": "code",
   "execution_count": null,
   "metadata": {},
   "outputs": [],
   "source": []
  },
  {
   "cell_type": "code",
   "execution_count": 3,
   "metadata": {},
   "outputs": [],
   "source": [
    "import nltk\n",
    "from nltk.stem import WordNetLemmatizer"
   ]
  },
  {
   "cell_type": "code",
   "execution_count": 4,
   "metadata": {},
   "outputs": [],
   "source": [
    "lemmatizer = WordNetLemmatizer()"
   ]
  },
  {
   "cell_type": "code",
   "execution_count": null,
   "metadata": {},
   "outputs": [],
   "source": []
  },
  {
   "cell_type": "code",
   "execution_count": 5,
   "metadata": {},
   "outputs": [],
   "source": [
    "def clean_sentence(sentence):\n",
    "    s_words = nltk.word_tokenize(sentence)\n",
    "    s_words = [lemmatizer.lemmatize(w) for w in s_words]\n",
    "    \n",
    "    return s_words"
   ]
  },
  {
   "cell_type": "code",
   "execution_count": null,
   "metadata": {},
   "outputs": [],
   "source": []
  },
  {
   "cell_type": "code",
   "execution_count": 6,
   "metadata": {},
   "outputs": [],
   "source": [
    "def bag_words(sentence):\n",
    "    s_words = clean_sentence(sentence)\n",
    "    bag = [0] * len(words)\n",
    "    for w in s_words:\n",
    "        for i, word in enumerate(words):\n",
    "            if word == w:\n",
    "                bag[i] = 1\n",
    "                \n",
    "    return np.array(bag)"
   ]
  },
  {
   "cell_type": "code",
   "execution_count": null,
   "metadata": {},
   "outputs": [],
   "source": []
  },
  {
   "cell_type": "code",
   "execution_count": 7,
   "metadata": {},
   "outputs": [],
   "source": [
    "import numpy as np\n",
    "import random"
   ]
  },
  {
   "cell_type": "code",
   "execution_count": 8,
   "metadata": {},
   "outputs": [],
   "source": [
    "def class_predict(sentence):\n",
    "    b = bag_words(sentence)\n",
    "    ans = model.predict(np.array([b]))[0]\n",
    "    ERROR_THRESHOLD = 0.25\n",
    "    results = [[i,r] for i, r in enumerate(ans) if r > ERROR_THRESHOLD]\n",
    "    \n",
    "    results.sort(key = lambda x: x[1], reverse = True)\n",
    "    l = []\n",
    "    for r in results:\n",
    "        l.append({'intent' : classes[r[0]], 'probability' : str(r[1])})\n",
    "        \n",
    "    return l"
   ]
  },
  {
   "cell_type": "code",
   "execution_count": 130,
   "metadata": {},
   "outputs": [],
   "source": [
    "# class_predict('money')"
   ]
  },
  {
   "cell_type": "code",
   "execution_count": null,
   "metadata": {},
   "outputs": [],
   "source": []
  },
  {
   "cell_type": "code",
   "execution_count": 9,
   "metadata": {},
   "outputs": [],
   "source": [
    "stock_names = ['Apple', 'Google', \"TCS\"]\n",
    "stock_names = '\\n\\t:> '.join(stock_names)\n",
    "\n",
    "crypto_names = [\"Bitcoin\", 'Luna']\n",
    "crypto_names = '\\n\\t:> '.join(crypto_names)\n",
    "\n",
    "item = {'Potato' : 30, 'MSI Laptop' : 50000}\n",
    "purchase = ''\n",
    "for k,v in item.items():\n",
    "    purchase += '\\n\\t:> ' + k + '  ₹' + str(v)"
   ]
  },
  {
   "cell_type": "code",
   "execution_count": 10,
   "metadata": {},
   "outputs": [],
   "source": [
    "def response(intList, intJson):\n",
    "    tag = intList[0]['intent']\n",
    "    ints = intJson['intents']\n",
    "    for i in ints:\n",
    "        if i['tags'] == tag == 'stock':\n",
    "            result = i['responses'][0] + '\\t:> ' + stock_names\n",
    "            break\n",
    "            \n",
    "        elif i['tags'] == tag == 'crypto':\n",
    "            result = i['responses'][0] + '\\t:> ' + crypto_names\n",
    "            break\n",
    "            \n",
    "        elif i['tags'] == tag == 'purchase':\n",
    "            result = random.choice(i['responses']) + purchase\n",
    "            break\n",
    "            \n",
    "        elif i['tags'] == tag:\n",
    "            result = random.choice(i['responses'])\n",
    "            break\n",
    "        \n",
    "        else:\n",
    "            result = 'Sorry I do not understand it'\n",
    "            \n",
    "    return result"
   ]
  },
  {
   "cell_type": "code",
   "execution_count": 168,
   "metadata": {},
   "outputs": [],
   "source": [
    "# print(response(a, intents))"
   ]
  },
  {
   "cell_type": "code",
   "execution_count": null,
   "metadata": {},
   "outputs": [],
   "source": []
  },
  {
   "cell_type": "code",
   "execution_count": 15,
   "metadata": {},
   "outputs": [
    {
     "name": "stdout",
     "output_type": "stream",
     "text": [
      "Hello, I'm Friday!! \n",
      "Your personal assistant, How can I help you?\n",
      "\n",
      "Sid >> hi\n",
      "Firday >> Hey!\n",
      "Sid >> bye\n",
      "Firday >> Have a nice day:) Bye!\n"
     ]
    }
   ],
   "source": [
    "# Main function\n",
    "print(\"Hello, I'm Friday!! \\nYour personal assistant, How can I help you?\\n\")\n",
    "user_name = 'Sid'\n",
    "\n",
    "while True:\n",
    "    query = input(f'{user_name} >> ')\n",
    "    ints = class_predict(query)\n",
    "    \n",
    "    if len(ints) == 0:\n",
    "        print('Firday >> Sorry I do not understand it')\n",
    "        continue\n",
    "        \n",
    "    if ints[0]['intent'] == 'goodbye':\n",
    "        ans = response(ints, intents)\n",
    "        print('Firday >>',ans)\n",
    "        break\n",
    "        \n",
    "    ans = response(ints, intents)\n",
    "    print('Firday >>',ans)"
   ]
  },
  {
   "cell_type": "code",
   "execution_count": null,
   "metadata": {},
   "outputs": [],
   "source": []
  }
 ],
 "metadata": {
  "kernelspec": {
   "display_name": "Python 3",
   "language": "python",
   "name": "python3"
  },
  "language_info": {
   "codemirror_mode": {
    "name": "ipython",
    "version": 3
   },
   "file_extension": ".py",
   "mimetype": "text/x-python",
   "name": "python",
   "nbconvert_exporter": "python",
   "pygments_lexer": "ipython3",
   "version": "3.8.3"
  }
 },
 "nbformat": 4,
 "nbformat_minor": 4
}
